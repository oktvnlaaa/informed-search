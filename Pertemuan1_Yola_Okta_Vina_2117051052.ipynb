{
  "nbformat": 4,
  "nbformat_minor": 0,
  "metadata": {
    "colab": {
      "provenance": [],
      "authorship_tag": "ABX9TyMReOtySyA3UQWnRnpw74r+",
      "include_colab_link": true
    },
    "kernelspec": {
      "name": "python3",
      "display_name": "Python 3"
    },
    "language_info": {
      "name": "python"
    }
  },
  "cells": [
    {
      "cell_type": "markdown",
      "metadata": {
        "id": "view-in-github",
        "colab_type": "text"
      },
      "source": [
        "<a href=\"https://colab.research.google.com/github/oktvnlaaa/informed-search/blob/main/Pertemuan1_Yola_Okta_Vina_2117051052.ipynb\" target=\"_parent\"><img src=\"https://colab.research.google.com/assets/colab-badge.svg\" alt=\"Open In Colab\"/></a>"
      ]
    },
    {
      "cell_type": "markdown",
      "source": [
        "# Pertemuan 1\n",
        "\n",
        "\n",
        "*   Pemrograman Dasar Phyton\n",
        "\n"
      ],
      "metadata": {
        "id": "tC1HR0_Ec3wg"
      }
    },
    {
      "cell_type": "markdown",
      "source": [
        "## Variable\n",
        "Deklarasi nilai ke dalam variabel"
      ],
      "metadata": {
        "id": "WsWTVB2cc_kf"
      }
    },
    {
      "cell_type": "code",
      "execution_count": null,
      "metadata": {
        "id": "8OiVUMK_bdHu"
      },
      "outputs": [],
      "source": [
        "#input \"8\" ke dalam variabel A\n",
        "A = 8\n",
        "print(A)\n",
        "print(\"Output: \", A)"
      ]
    },
    {
      "cell_type": "code",
      "source": [
        "A = \"8\"\n",
        "print(A)\n",
        "print(type(A))\n",
        "B = int(A)\n",
        "print(B)\n",
        "print(type(B))\n"
      ],
      "metadata": {
        "colab": {
          "base_uri": "https://localhost:8080/"
        },
        "id": "jlfEg46Ud9ZI",
        "outputId": "77e683bc-28cf-4fbf-b3ba-189e7944e15e"
      },
      "execution_count": null,
      "outputs": [
        {
          "output_type": "stream",
          "name": "stdout",
          "text": [
            "8\n",
            "<class 'str'>\n",
            "8\n",
            "<class 'int'>\n"
          ]
        }
      ]
    },
    {
      "cell_type": "code",
      "source": [
        "# input nilai sebagai list\n",
        "nilai = [70, 80, 90,100, 85]\n",
        "print(nilai)\n",
        "# nilai"
      ],
      "metadata": {
        "colab": {
          "base_uri": "https://localhost:8080/"
        },
        "id": "sBCEWOf1f3GH",
        "outputId": "895c7629-7481-4259-a412-d3ff73b9c7f1"
      },
      "execution_count": null,
      "outputs": [
        {
          "output_type": "stream",
          "name": "stdout",
          "text": [
            "[70, 80, 90, 100, 85]\n"
          ]
        }
      ]
    },
    {
      "cell_type": "code",
      "source": [
        "data = [80, \"A\", \"Joni\"]\n",
        "print(data)"
      ],
      "metadata": {
        "colab": {
          "base_uri": "https://localhost:8080/"
        },
        "id": "4_BVeEGHgl5e",
        "outputId": "2ae3b66f-c64a-419f-9cb8-9bf0e16c4066"
      },
      "execution_count": null,
      "outputs": [
        {
          "output_type": "stream",
          "name": "stdout",
          "text": [
            "[80, 'A', 'Joni']\n"
          ]
        }
      ]
    },
    {
      "cell_type": "markdown",
      "source": [
        "#Conditional\n",
        "\n",
        "\n",
        "Mengeksekusi nilai dengan menggunakan kondisi\n",
        "\n",
        "\n"
      ],
      "metadata": {
        "id": "wb73NdmIhKdp"
      }
    },
    {
      "cell_type": "code",
      "source": [
        "if 7 == A:\n",
        "    print(\"Nilai 7 sama dengan nilai A yang mana adalah\", A)\n",
        "else:\n",
        "    print(\"Nilai 7 tidak sama dengan nilai A yang mana adalah\", A)"
      ],
      "metadata": {
        "colab": {
          "base_uri": "https://localhost:8080/"
        },
        "id": "hp9IldG8hc7n",
        "outputId": "aa3a6d09-b31a-4571-9c2a-3dc483d82dd9"
      },
      "execution_count": null,
      "outputs": [
        {
          "output_type": "stream",
          "name": "stdout",
          "text": [
            "Nilai 7 tidak sama dengan nilai A yang mana adalah 8\n"
          ]
        }
      ]
    },
    {
      "cell_type": "code",
      "source": [
        "# mengecek nilai di dalam list\n",
        "if 70 in nilai:\n",
        "  print(\"ada nilai 70 di dalam list\")\n",
        "else:\n",
        "  print(\"tidak ada di dalam list\")"
      ],
      "metadata": {
        "colab": {
          "base_uri": "https://localhost:8080/"
        },
        "id": "npz2JG-BiF9O",
        "outputId": "e4f58654-1de4-44c2-a9bd-6a15675f1e27"
      },
      "execution_count": null,
      "outputs": [
        {
          "output_type": "stream",
          "name": "stdout",
          "text": [
            "ada nilai 70 di dalam list\n"
          ]
        }
      ]
    },
    {
      "cell_type": "markdown",
      "source": [
        "# Looping\n",
        "Mengeksekusi nilai berdasarkan perulangan"
      ],
      "metadata": {
        "id": "m_spuzRbi2bV"
      }
    },
    {
      "cell_type": "code",
      "source": [
        "# mencetak perkalian angka 2 dengan angka 0 sampai 10\n",
        "for i in range(10):\n",
        "  print(i*2)"
      ],
      "metadata": {
        "colab": {
          "base_uri": "https://localhost:8080/"
        },
        "id": "RSxvAiJfjCjz",
        "outputId": "5151920e-c888-45ee-d783-884b5c2df91e"
      },
      "execution_count": null,
      "outputs": [
        {
          "output_type": "stream",
          "name": "stdout",
          "text": [
            "0\n",
            "2\n",
            "4\n",
            "6\n",
            "8\n",
            "10\n",
            "12\n",
            "14\n",
            "16\n",
            "18\n"
          ]
        }
      ]
    },
    {
      "cell_type": "markdown",
      "source": [
        "# Function"
      ],
      "metadata": {
        "id": "QX7Vrsrrjd8O"
      }
    },
    {
      "cell_type": "markdown",
      "source": [
        "# User Definition Function\n",
        "Mendeklarasikan fungsi yang dibuat sendiri dengan awalan def nama_fungsi(parameter):isi"
      ],
      "metadata": {
        "id": "brOswRkXj8h9"
      }
    },
    {
      "cell_type": "code",
      "source": [
        "# fungsi yang mencetak suatu nilai\n",
        "def cetak_a():\n",
        "  print(\"A\")\n",
        "\n",
        "# panggil fungsi cetak_a\n",
        "cetak_a()"
      ],
      "metadata": {
        "colab": {
          "base_uri": "https://localhost:8080/"
        },
        "id": "de68-PvOkVP7",
        "outputId": "a79b08a7-b134-4e2a-bee8-2d8df76942de"
      },
      "execution_count": null,
      "outputs": [
        {
          "output_type": "stream",
          "name": "stdout",
          "text": [
            "A\n"
          ]
        }
      ]
    },
    {
      "cell_type": "code",
      "source": [
        "# fungsi yang mengembalikan suatu nilai dari suatu masukan\n",
        "def cetak_pangkat_dua(x):\n",
        "  x = x**2\n",
        "  return x\n",
        "\n",
        "# panggil fungsi cetak_pangkat_dua dengan inputan tertentu\n",
        "cetak_pangkat_dua(4)"
      ],
      "metadata": {
        "colab": {
          "base_uri": "https://localhost:8080/"
        },
        "id": "G9bDexPdkqHR",
        "outputId": "dd5ee896-3f29-45e6-f13e-517d99600f29"
      },
      "execution_count": null,
      "outputs": [
        {
          "output_type": "execute_result",
          "data": {
            "text/plain": [
              "16"
            ]
          },
          "metadata": {},
          "execution_count": 30
        }
      ]
    },
    {
      "cell_type": "markdown",
      "source": [
        "# Built-in Function\n",
        "Memanggil fungsi bawaan dari Phyton"
      ],
      "metadata": {
        "id": "aJcXy200lYIt"
      }
    },
    {
      "cell_type": "code",
      "source": [
        "nilai = [70, 80, 90, 100, 85]\n",
        "# memanggil fungsi len untuk mencetak jumlah item dari list\n",
        "print(len(nilai))\n",
        "\n",
        "# memanggil fungsi max untuk mencetak item terbesar dari list\n",
        "print(max(nilai))\n",
        "\n",
        "# untuk tahu fungsi bawaan dari library yang ada, perlu baca dokumentasinya"
      ],
      "metadata": {
        "colab": {
          "base_uri": "https://localhost:8080/"
        },
        "id": "tto8eqLPmEMc",
        "outputId": "9ec4fdb2-9815-489a-a831-7a3b17373fe7"
      },
      "execution_count": null,
      "outputs": [
        {
          "output_type": "stream",
          "name": "stdout",
          "text": [
            "5\n",
            "100\n"
          ]
        }
      ]
    },
    {
      "cell_type": "markdown",
      "source": [
        "#Library\n",
        "Sekumpulan kode yang memiliki fungsi - fungsi tertentu dan dapat dipanggil ke dalam program"
      ],
      "metadata": {
        "id": "OyDUrZsvnSrk"
      }
    },
    {
      "cell_type": "code",
      "source": [
        "# deklrasi library dengan fungsi yang ada di dalamnya\n",
        "import numpy as np\n",
        "\n",
        "# inisiasi vector dan nilai skalar\n",
        "list1 = [1,2,3,4,5]\n",
        "vtr1 = np.array(list1)\n",
        "scalar_value = 10\n",
        "\n",
        "# operasi perkalian vector-scalar\n",
        "vtr_scalar = vtr1 * scalar_value\n",
        "print(vtr_scalar)"
      ],
      "metadata": {
        "colab": {
          "base_uri": "https://localhost:8080/"
        },
        "id": "TlD3-SbLnfv5",
        "outputId": "486317ff-dd75-4cf0-b68a-1782bbaedc77"
      },
      "execution_count": null,
      "outputs": [
        {
          "output_type": "stream",
          "name": "stdout",
          "text": [
            "[10 20 30 40 50]\n"
          ]
        }
      ]
    },
    {
      "cell_type": "code",
      "source": [
        "# deklarasi library dengan menggunakan nama alias\n",
        "import pandas as pd\n",
        "\n",
        "# membuat variabel dataframe (df) dengan isi list nilai dan nama kolom \"nilai\"\n",
        "df = pd.DataFrame(nilai, columns=[\"nilai\"])\n",
        "df #dataframe"
      ],
      "metadata": {
        "colab": {
          "base_uri": "https://localhost:8080/",
          "height": 206
        },
        "id": "zkKv8SJ6pC87",
        "outputId": "535f8ea6-cb3f-4770-9528-8b818fe82393"
      },
      "execution_count": null,
      "outputs": [
        {
          "output_type": "execute_result",
          "data": {
            "text/plain": [
              "   nilai\n",
              "0     70\n",
              "1     80\n",
              "2     90\n",
              "3    100\n",
              "4     85"
            ],
            "text/html": [
              "\n",
              "  <div id=\"df-1cbcb29e-6fb7-46bb-a2cb-0b509e470a20\">\n",
              "    <div class=\"colab-df-container\">\n",
              "      <div>\n",
              "<style scoped>\n",
              "    .dataframe tbody tr th:only-of-type {\n",
              "        vertical-align: middle;\n",
              "    }\n",
              "\n",
              "    .dataframe tbody tr th {\n",
              "        vertical-align: top;\n",
              "    }\n",
              "\n",
              "    .dataframe thead th {\n",
              "        text-align: right;\n",
              "    }\n",
              "</style>\n",
              "<table border=\"1\" class=\"dataframe\">\n",
              "  <thead>\n",
              "    <tr style=\"text-align: right;\">\n",
              "      <th></th>\n",
              "      <th>nilai</th>\n",
              "    </tr>\n",
              "  </thead>\n",
              "  <tbody>\n",
              "    <tr>\n",
              "      <th>0</th>\n",
              "      <td>70</td>\n",
              "    </tr>\n",
              "    <tr>\n",
              "      <th>1</th>\n",
              "      <td>80</td>\n",
              "    </tr>\n",
              "    <tr>\n",
              "      <th>2</th>\n",
              "      <td>90</td>\n",
              "    </tr>\n",
              "    <tr>\n",
              "      <th>3</th>\n",
              "      <td>100</td>\n",
              "    </tr>\n",
              "    <tr>\n",
              "      <th>4</th>\n",
              "      <td>85</td>\n",
              "    </tr>\n",
              "  </tbody>\n",
              "</table>\n",
              "</div>\n",
              "      <button class=\"colab-df-convert\" onclick=\"convertToInteractive('df-1cbcb29e-6fb7-46bb-a2cb-0b509e470a20')\"\n",
              "              title=\"Convert this dataframe to an interactive table.\"\n",
              "              style=\"display:none;\">\n",
              "        \n",
              "  <svg xmlns=\"http://www.w3.org/2000/svg\" height=\"24px\"viewBox=\"0 0 24 24\"\n",
              "       width=\"24px\">\n",
              "    <path d=\"M0 0h24v24H0V0z\" fill=\"none\"/>\n",
              "    <path d=\"M18.56 5.44l.94 2.06.94-2.06 2.06-.94-2.06-.94-.94-2.06-.94 2.06-2.06.94zm-11 1L8.5 8.5l.94-2.06 2.06-.94-2.06-.94L8.5 2.5l-.94 2.06-2.06.94zm10 10l.94 2.06.94-2.06 2.06-.94-2.06-.94-.94-2.06-.94 2.06-2.06.94z\"/><path d=\"M17.41 7.96l-1.37-1.37c-.4-.4-.92-.59-1.43-.59-.52 0-1.04.2-1.43.59L10.3 9.45l-7.72 7.72c-.78.78-.78 2.05 0 2.83L4 21.41c.39.39.9.59 1.41.59.51 0 1.02-.2 1.41-.59l7.78-7.78 2.81-2.81c.8-.78.8-2.07 0-2.86zM5.41 20L4 18.59l7.72-7.72 1.47 1.35L5.41 20z\"/>\n",
              "  </svg>\n",
              "      </button>\n",
              "      \n",
              "  <style>\n",
              "    .colab-df-container {\n",
              "      display:flex;\n",
              "      flex-wrap:wrap;\n",
              "      gap: 12px;\n",
              "    }\n",
              "\n",
              "    .colab-df-convert {\n",
              "      background-color: #E8F0FE;\n",
              "      border: none;\n",
              "      border-radius: 50%;\n",
              "      cursor: pointer;\n",
              "      display: none;\n",
              "      fill: #1967D2;\n",
              "      height: 32px;\n",
              "      padding: 0 0 0 0;\n",
              "      width: 32px;\n",
              "    }\n",
              "\n",
              "    .colab-df-convert:hover {\n",
              "      background-color: #E2EBFA;\n",
              "      box-shadow: 0px 1px 2px rgba(60, 64, 67, 0.3), 0px 1px 3px 1px rgba(60, 64, 67, 0.15);\n",
              "      fill: #174EA6;\n",
              "    }\n",
              "\n",
              "    [theme=dark] .colab-df-convert {\n",
              "      background-color: #3B4455;\n",
              "      fill: #D2E3FC;\n",
              "    }\n",
              "\n",
              "    [theme=dark] .colab-df-convert:hover {\n",
              "      background-color: #434B5C;\n",
              "      box-shadow: 0px 1px 3px 1px rgba(0, 0, 0, 0.15);\n",
              "      filter: drop-shadow(0px 1px 2px rgba(0, 0, 0, 0.3));\n",
              "      fill: #FFFFFF;\n",
              "    }\n",
              "  </style>\n",
              "\n",
              "      <script>\n",
              "        const buttonEl =\n",
              "          document.querySelector('#df-1cbcb29e-6fb7-46bb-a2cb-0b509e470a20 button.colab-df-convert');\n",
              "        buttonEl.style.display =\n",
              "          google.colab.kernel.accessAllowed ? 'block' : 'none';\n",
              "\n",
              "        async function convertToInteractive(key) {\n",
              "          const element = document.querySelector('#df-1cbcb29e-6fb7-46bb-a2cb-0b509e470a20');\n",
              "          const dataTable =\n",
              "            await google.colab.kernel.invokeFunction('convertToInteractive',\n",
              "                                                     [key], {});\n",
              "          if (!dataTable) return;\n",
              "\n",
              "          const docLinkHtml = 'Like what you see? Visit the ' +\n",
              "            '<a target=\"_blank\" href=https://colab.research.google.com/notebooks/data_table.ipynb>data table notebook</a>'\n",
              "            + ' to learn more about interactive tables.';\n",
              "          element.innerHTML = '';\n",
              "          dataTable['output_type'] = 'display_data';\n",
              "          await google.colab.output.renderOutput(dataTable, element);\n",
              "          const docLink = document.createElement('div');\n",
              "          docLink.innerHTML = docLinkHtml;\n",
              "          element.appendChild(docLink);\n",
              "        }\n",
              "      </script>\n",
              "    </div>\n",
              "  </div>\n",
              "  "
            ]
          },
          "metadata": {},
          "execution_count": 33
        }
      ]
    },
    {
      "cell_type": "markdown",
      "source": [
        "#TUGAS RESPONSI 1"
      ],
      "metadata": {
        "id": "QbWbGR13q4Rp"
      }
    },
    {
      "cell_type": "markdown",
      "source": [
        "#NOMOR 1"
      ],
      "metadata": {
        "id": "RJdV5B9NqdPK"
      }
    },
    {
      "cell_type": "code",
      "source": [
        "import numpy as np\n",
        "\n",
        "vector1 = np.array([1,2,3,4,5])\n",
        "vector2 = np.array([2,4,6,8,10])\n",
        "hasil = np.array(vector1*vector2)\n",
        "print(\"vector 1 * vector 2 : \", hasil)"
      ],
      "metadata": {
        "colab": {
          "base_uri": "https://localhost:8080/"
        },
        "id": "g5gV0UX8pV46",
        "outputId": "6e15b07c-0e95-43cc-8e22-c8aeac5dec0e"
      },
      "execution_count": null,
      "outputs": [
        {
          "output_type": "stream",
          "name": "stdout",
          "text": [
            "vector 1 * vector 2 :  [ 2  8 18 32 50]\n"
          ]
        }
      ]
    },
    {
      "cell_type": "markdown",
      "source": [
        "#NOMOR 2"
      ],
      "metadata": {
        "id": "By7Y5JXtsead"
      }
    },
    {
      "cell_type": "code",
      "source": [
        "import pandas as pd\n",
        "\n",
        "mahasiswa = ['Andi', 'Budi', 'Caca', 'Didi']\n",
        "nilai = [7, 6, 10, 8]\n",
        "\n",
        "def keterangan(nilai):\n",
        "  if(nilai < 7):\n",
        "    return \"belum lulus\"\n",
        "  else:\n",
        "    return \"lulus\"\n",
        "\n",
        "df = pd.DataFrame({'mahasiswa':mahasiswa, 'nilai':nilai, 'keterangan':[keterangan(x) for x in nilai]})\n",
        "df"
      ],
      "metadata": {
        "colab": {
          "base_uri": "https://localhost:8080/",
          "height": 174
        },
        "id": "lJVU4s_tsgjW",
        "outputId": "43f65588-212e-481c-9448-e52dbc12de66"
      },
      "execution_count": null,
      "outputs": [
        {
          "output_type": "execute_result",
          "data": {
            "text/plain": [
              "  mahasiswa  nilai   keterangan\n",
              "0      Andi      7        lulus\n",
              "1      Budi      6  belum lulus\n",
              "2      Caca     10        lulus\n",
              "3      Didi      8        lulus"
            ],
            "text/html": [
              "\n",
              "  <div id=\"df-4bdb61e8-13fe-497e-9373-7a9849410a5b\">\n",
              "    <div class=\"colab-df-container\">\n",
              "      <div>\n",
              "<style scoped>\n",
              "    .dataframe tbody tr th:only-of-type {\n",
              "        vertical-align: middle;\n",
              "    }\n",
              "\n",
              "    .dataframe tbody tr th {\n",
              "        vertical-align: top;\n",
              "    }\n",
              "\n",
              "    .dataframe thead th {\n",
              "        text-align: right;\n",
              "    }\n",
              "</style>\n",
              "<table border=\"1\" class=\"dataframe\">\n",
              "  <thead>\n",
              "    <tr style=\"text-align: right;\">\n",
              "      <th></th>\n",
              "      <th>mahasiswa</th>\n",
              "      <th>nilai</th>\n",
              "      <th>keterangan</th>\n",
              "    </tr>\n",
              "  </thead>\n",
              "  <tbody>\n",
              "    <tr>\n",
              "      <th>0</th>\n",
              "      <td>Andi</td>\n",
              "      <td>7</td>\n",
              "      <td>lulus</td>\n",
              "    </tr>\n",
              "    <tr>\n",
              "      <th>1</th>\n",
              "      <td>Budi</td>\n",
              "      <td>6</td>\n",
              "      <td>belum lulus</td>\n",
              "    </tr>\n",
              "    <tr>\n",
              "      <th>2</th>\n",
              "      <td>Caca</td>\n",
              "      <td>10</td>\n",
              "      <td>lulus</td>\n",
              "    </tr>\n",
              "    <tr>\n",
              "      <th>3</th>\n",
              "      <td>Didi</td>\n",
              "      <td>8</td>\n",
              "      <td>lulus</td>\n",
              "    </tr>\n",
              "  </tbody>\n",
              "</table>\n",
              "</div>\n",
              "      <button class=\"colab-df-convert\" onclick=\"convertToInteractive('df-4bdb61e8-13fe-497e-9373-7a9849410a5b')\"\n",
              "              title=\"Convert this dataframe to an interactive table.\"\n",
              "              style=\"display:none;\">\n",
              "        \n",
              "  <svg xmlns=\"http://www.w3.org/2000/svg\" height=\"24px\"viewBox=\"0 0 24 24\"\n",
              "       width=\"24px\">\n",
              "    <path d=\"M0 0h24v24H0V0z\" fill=\"none\"/>\n",
              "    <path d=\"M18.56 5.44l.94 2.06.94-2.06 2.06-.94-2.06-.94-.94-2.06-.94 2.06-2.06.94zm-11 1L8.5 8.5l.94-2.06 2.06-.94-2.06-.94L8.5 2.5l-.94 2.06-2.06.94zm10 10l.94 2.06.94-2.06 2.06-.94-2.06-.94-.94-2.06-.94 2.06-2.06.94z\"/><path d=\"M17.41 7.96l-1.37-1.37c-.4-.4-.92-.59-1.43-.59-.52 0-1.04.2-1.43.59L10.3 9.45l-7.72 7.72c-.78.78-.78 2.05 0 2.83L4 21.41c.39.39.9.59 1.41.59.51 0 1.02-.2 1.41-.59l7.78-7.78 2.81-2.81c.8-.78.8-2.07 0-2.86zM5.41 20L4 18.59l7.72-7.72 1.47 1.35L5.41 20z\"/>\n",
              "  </svg>\n",
              "      </button>\n",
              "      \n",
              "  <style>\n",
              "    .colab-df-container {\n",
              "      display:flex;\n",
              "      flex-wrap:wrap;\n",
              "      gap: 12px;\n",
              "    }\n",
              "\n",
              "    .colab-df-convert {\n",
              "      background-color: #E8F0FE;\n",
              "      border: none;\n",
              "      border-radius: 50%;\n",
              "      cursor: pointer;\n",
              "      display: none;\n",
              "      fill: #1967D2;\n",
              "      height: 32px;\n",
              "      padding: 0 0 0 0;\n",
              "      width: 32px;\n",
              "    }\n",
              "\n",
              "    .colab-df-convert:hover {\n",
              "      background-color: #E2EBFA;\n",
              "      box-shadow: 0px 1px 2px rgba(60, 64, 67, 0.3), 0px 1px 3px 1px rgba(60, 64, 67, 0.15);\n",
              "      fill: #174EA6;\n",
              "    }\n",
              "\n",
              "    [theme=dark] .colab-df-convert {\n",
              "      background-color: #3B4455;\n",
              "      fill: #D2E3FC;\n",
              "    }\n",
              "\n",
              "    [theme=dark] .colab-df-convert:hover {\n",
              "      background-color: #434B5C;\n",
              "      box-shadow: 0px 1px 3px 1px rgba(0, 0, 0, 0.15);\n",
              "      filter: drop-shadow(0px 1px 2px rgba(0, 0, 0, 0.3));\n",
              "      fill: #FFFFFF;\n",
              "    }\n",
              "  </style>\n",
              "\n",
              "      <script>\n",
              "        const buttonEl =\n",
              "          document.querySelector('#df-4bdb61e8-13fe-497e-9373-7a9849410a5b button.colab-df-convert');\n",
              "        buttonEl.style.display =\n",
              "          google.colab.kernel.accessAllowed ? 'block' : 'none';\n",
              "\n",
              "        async function convertToInteractive(key) {\n",
              "          const element = document.querySelector('#df-4bdb61e8-13fe-497e-9373-7a9849410a5b');\n",
              "          const dataTable =\n",
              "            await google.colab.kernel.invokeFunction('convertToInteractive',\n",
              "                                                     [key], {});\n",
              "          if (!dataTable) return;\n",
              "\n",
              "          const docLinkHtml = 'Like what you see? Visit the ' +\n",
              "            '<a target=\"_blank\" href=https://colab.research.google.com/notebooks/data_table.ipynb>data table notebook</a>'\n",
              "            + ' to learn more about interactive tables.';\n",
              "          element.innerHTML = '';\n",
              "          dataTable['output_type'] = 'display_data';\n",
              "          await google.colab.output.renderOutput(dataTable, element);\n",
              "          const docLink = document.createElement('div');\n",
              "          docLink.innerHTML = docLinkHtml;\n",
              "          element.appendChild(docLink);\n",
              "        }\n",
              "      </script>\n",
              "    </div>\n",
              "  </div>\n",
              "  "
            ]
          },
          "metadata": {},
          "execution_count": 10
        }
      ]
    },
    {
      "cell_type": "markdown",
      "source": [
        "#NOMOR 3"
      ],
      "metadata": {
        "id": "8dmyWnNm1ENH"
      }
    },
    {
      "cell_type": "code",
      "source": [
        "import pandas as pd\n",
        "\n",
        "mahasiswa = ['Andi', 'Budi', 'Caca', 'Didi']\n",
        "nilai = [7, 6, 10, 8]\n",
        "\n",
        "def keterangan(nilai):\n",
        "  if(nilai < 7):\n",
        "    return \"belum lulus\"\n",
        "  else:\n",
        "    return \"lulus\"\n",
        "print(f\"{df[df['keterangan'] == 'lulus'].size *100/df.size}%\")"
      ],
      "metadata": {
        "colab": {
          "base_uri": "https://localhost:8080/"
        },
        "id": "k2fuZq7L1HLJ",
        "outputId": "0edb3296-8fce-4382-8b2f-cc816a3c29f9"
      },
      "execution_count": null,
      "outputs": [
        {
          "output_type": "stream",
          "name": "stdout",
          "text": [
            "75.0%\n"
          ]
        }
      ]
    }
  ]
}